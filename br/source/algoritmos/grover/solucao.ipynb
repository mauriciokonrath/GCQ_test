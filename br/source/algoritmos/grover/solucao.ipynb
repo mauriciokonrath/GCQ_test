{
 "cells": [
  {
   "cell_type": "markdown",
   "id": "5cd700ba",
   "metadata": {},
   "source": [
    "# Solução do Exercício\n",
    "\n",
    "Aqui mostraremos a solução completa para o exercício proposto.\n",
    "Primeiro vamos importar o necessario e definir algumas funções que vimos na parte prática."
   ]
  },
  {
   "cell_type": "code",
   "execution_count": 1,
   "id": "a727c678",
   "metadata": {},
   "outputs": [],
   "source": [
    "from math import sqrt, pi\n",
    "from ket import *\n",
    "\n",
    "\n",
    "def phase_oracle(qubits: quant, state: int):\n",
    "    with around(flipc(state), qubits):\n",
    "        ctrl(qubits[:-1], Z, qubits[-1])\n",
    "\n",
    "\n",
    "def grover_diffuser(qubits: quant):\n",
    "    with around(H, qubits):\n",
    "        phase_oracle(qubits, 0)\n"
   ]
  },
  {
   "cell_type": "markdown",
   "id": "cf2f3173",
   "metadata": {},
   "source": [
    "Agora iremos passar uma lista de estados a serem marcados para a função ``grover()``.\n",
    "Além disso, precisamos levar o número de estados em consideração para o cálculo do número de vezes em que aplicaremos o operador de grover.\n",
    "Estávamos considerando $M = 1$, porém agora temos $M \\ge 1$.\n",
    "\n",
    "Já vimos como calcular o número de aplicações do operador para qualquer $M$ na parte teórica.\n",
    "Para isso vamos utilizar a função ``len()``, a qual retorna o número de elementos dentro de uma lista."
   ]
  },
  {
   "cell_type": "code",
   "execution_count": 2,
   "id": "42ea0733",
   "metadata": {},
   "outputs": [],
   "source": [
    "def grover(states: [int], num_qubits: int) -> int:\n",
    "    qubits: quant = quant(num_qubits)\n",
    "    entries = 2**num_qubits\n",
    "    steps = int((pi / 4) * sqrt(entries / len(states)))\n",
    "\n",
    "    H(qubits)\n",
    "\n",
    "    for _ in range(steps):\n",
    "        grover_operator(qubits, states)\n",
    "\n",
    "    return measure(qubits).value\n"
   ]
  },
  {
   "cell_type": "markdown",
   "id": "75964463",
   "metadata": {},
   "source": [
    "A única outra alteração necessária é em ``grover_operator``, onde vamos chamar o oráculo para cada estado.\n",
    "Isso fará com que cada um dos estados desejado seja marcado, exatamente o que precisávamos."
   ]
  },
  {
   "cell_type": "code",
   "execution_count": 3,
   "id": "2b42a7f0",
   "metadata": {},
   "outputs": [],
   "source": [
    "def grover_operator(qubits: quant, states: [int]):\n",
    "    for state in states:\n",
    "        phase_oracle(qubits, state)\n",
    "\n",
    "    grover_diffuser(qubits)\n"
   ]
  },
  {
   "cell_type": "markdown",
   "id": "87ee7222",
   "metadata": {},
   "source": [
    "Com apenas essas alterações já temos um algoritmo de grover funcional para quantos estados quisermos."
   ]
  },
  {
   "cell_type": "markdown",
   "id": "def610b2",
   "metadata": {},
   "source": [
    "Como mudamos a entrada do nosso algoritmo, agora é necessário sempre passar o estados como uma lista (mesmo que seja somente um)."
   ]
  },
  {
   "cell_type": "code",
   "execution_count": 4,
   "id": "0c60c66c",
   "metadata": {},
   "outputs": [
    {
     "name": "stdout",
     "output_type": "stream",
     "text": [
      "Procurando estados [807] ... Estado medido: 807\n",
      "Procurando estados [868, 567] ... Estado medido: 567\n",
      "Procurando estados [64, 909, 525] ... Estado medido: 525\n",
      "Procurando estados [930, 529, 984, 233] ... Estado medido: 529\n",
      "Procurando estados [9, 222, 396, 452, 154] ... Estado medido: 452\n",
      "Procurando estados [353, 770, 498, 94, 131, 288] ... Estado medido: 498\n",
      "Procurando estados [347, 97, 841, 827, 637, 613, 675] ... Estado medido: 675\n",
      "Procurando estados [115, 270, 229, 740, 970, 966, 826, 592] ... Estado medido: 229\n",
      "Procurando estados [959, 406, 857, 202, 540, 506, 42, 797, 1010] ... Estado medido: 42\n",
      "Procurando estados [568, 479, 558, 122, 398, 18, 86, 413, 807, 838] ... Estado medido: 18\n"
     ]
    }
   ],
   "source": [
    "from random import randrange\n",
    "num_qubits = 10\n",
    "for n in range(1, 11):\n",
    "    states = [randrange(2**num_qubits) for _ in range(n)]\n",
    "    print('Procurando estados', states, '...', end=' ')\n",
    "    print('Estado medido:', grover(states, num_qubits))\n"
   ]
  }
 ],
 "metadata": {
  "kernelspec": {
   "display_name": "Python 3 (ipykernel)",
   "language": "python",
   "name": "python3"
  },
  "language_info": {
   "codemirror_mode": {
    "name": "ipython",
    "version": 3
   },
   "file_extension": ".py",
   "mimetype": "text/x-python",
   "name": "python",
   "nbconvert_exporter": "python",
   "pygments_lexer": "ipython3",
   "version": "3.11.2"
  }
 },
 "nbformat": 4,
 "nbformat_minor": 5
}
