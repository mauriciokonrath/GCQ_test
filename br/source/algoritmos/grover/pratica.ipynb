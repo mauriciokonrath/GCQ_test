{
 "cells": [
  {
   "cell_type": "markdown",
   "id": "8b281e01",
   "metadata": {},
   "source": [
    "# Prática\n",
    "\n",
    "Agora que vimos a teoria, vamos implementar o algoritmo de Grover usando ket.\n",
    "Aqui, cada estado da base computacional será representado na base decimal, $\\left| i \\right\\rangle, i = 0, \\dots, 2^n - 1$.\n",
    "Logo, precisamos passar um inteiro maior ou igual a 0 que indicará qual desses estados queremos marcar, também será necessário especificarmos quantos bits serão simulados.\n",
    "Primeiro vamos importar o necessário."
   ]
  },
  {
   "cell_type": "code",
   "execution_count": 1,
   "id": "1a7421ad",
   "metadata": {},
   "outputs": [],
   "source": [
    "from math import sqrt, pi\n",
    "from ket import *\n"
   ]
  },
  {
   "cell_type": "markdown",
   "id": "cfab6db8",
   "metadata": {},
   "source": [
    "Para facilitar, vamos dividir o algoritmo em quatro partes:\n",
    "\n",
    "1. Oráculo de fase;\n",
    "2. Difusor;\n",
    "3. Operador de Grover; e a\n",
    "4. Função principal ``grover()``, a qual será chamada e realizará todas as operações necessárias."
   ]
  },
  {
   "cell_type": "markdown",
   "id": "b9770dbf",
   "metadata": {},
   "source": [
    "## Oráculo de fase"
   ]
  },
  {
   "cell_type": "code",
   "execution_count": 2,
   "id": "fab2a6a3",
   "metadata": {},
   "outputs": [],
   "source": [
    "def phase_oracle(qubits: quant, state: int):\n",
    "    with around(flipc(state), qubits):\n",
    "        ctrl(qubits[:-1], Z, qubits[-1])\n"
   ]
  },
  {
   "attachments": {},
   "cell_type": "markdown",
   "id": "2800f35d",
   "metadata": {},
   "source": [
    "O que estamos fazendo nesse código é receber os qubits e o estado desejado como argumentos e aplicando a porta $Z$ controlada. Se os qubits estiverem no estado `state` aplicaremos a porta `Z` no último qubit (``qubit[-1]``). Como essa operação controlada aplicada a fase -1 apenas quando os qubits estão no estado $\\left|1\\right>$, usamos a porta `flipc` para parmutar o estdo desejado (`state`) para o estado de controle ($\\left|1\\cdots1\\right>$). Como o `with around` garatimos que a permitação é desfeita apos a aplicação da porta controlada."
   ]
  },
  {
   "cell_type": "markdown",
   "id": "b881abbf",
   "metadata": {},
   "source": [
    "## Difusor\n",
    "\n",
    "O difusor é muito semelhante ao código do oráculo, porém nele iremos aplicar a porta de hadamard antes e depois da porta controlada, e o estado a ser marcado é $\\left| 0 \\right\\rangle$."
   ]
  },
  {
   "cell_type": "code",
   "execution_count": 3,
   "id": "f3a4c591",
   "metadata": {},
   "outputs": [],
   "source": [
    "def grover_diffuser(qubits: quant):\n",
    "    with around(H, qubits):\n",
    "        phase_oracle(qubits, 0)\n"
   ]
  },
  {
   "cell_type": "markdown",
   "id": "8db9b82f",
   "metadata": {},
   "source": [
    "## Operador de Grover\n",
    "\n",
    "Agora partindo para o operador de Grover, temos o código mais simples, consistindo apenas da chamada do oráculo e depois do difusor.\n"
   ]
  },
  {
   "cell_type": "code",
   "execution_count": 4,
   "id": "4ec83825",
   "metadata": {},
   "outputs": [],
   "source": [
    "def grover_operator(qubits: quant, state: int):\n",
    "    phase_oracle(qubits, state)\n",
    "    grover_diffuser(qubits)\n"
   ]
  },
  {
   "cell_type": "markdown",
   "id": "23689fcf",
   "metadata": {},
   "source": [
    "## Função principal\n",
    "\n",
    "Para finalizar, temos a função principal, a qual irá criar os qubits e definir quantas vezes precisaremos aplicar o operador de Grover.\n"
   ]
  },
  {
   "cell_type": "code",
   "execution_count": 5,
   "id": "b0ef9af3",
   "metadata": {},
   "outputs": [],
   "source": [
    "def grover(state: int, num_qubits: int) -> int:\n",
    "    qubits = quant(num_qubits)\n",
    "    entries = 2**num_qubits\n",
    "    steps = int((pi / 4) * sqrt(entries))\n",
    "\n",
    "    H(qubits)\n",
    "\n",
    "    for _ in range(steps):\n",
    "        grover_operator(qubits, state)\n",
    "\n",
    "    return measure(qubits).value\n"
   ]
  },
  {
   "cell_type": "markdown",
   "id": "da9357ec",
   "metadata": {},
   "source": [
    "Após todas operações medimos e retornamos o valor obtido.\n",
    "Como se trata de um algoritmo probabilístico, nem sempre teremos o estado desejado como resultado, porém é esperado que tenha alta taxa de sucesso.\n",
    "Com tudo pronto podemos chamar a função ``grover()``."
   ]
  },
  {
   "cell_type": "code",
   "execution_count": 6,
   "id": "0ffbfa9b",
   "metadata": {},
   "outputs": [
    {
     "name": "stdout",
     "output_type": "stream",
     "text": [
      "Procurando estado 788 ... Estado medido: 788\n",
      "Procurando estado 794 ... Estado medido: 794\n",
      "Procurando estado 593 ... Estado medido: 593\n",
      "Procurando estado 410 ... Estado medido: 410\n",
      "Procurando estado 594 ... Estado medido: 594\n",
      "Procurando estado 897 ... Estado medido: 897\n",
      "Procurando estado 516 ... Estado medido: 516\n",
      "Procurando estado 622 ... Estado medido: 622\n",
      "Procurando estado 822 ... Estado medido: 822\n",
      "Procurando estado 802 ... Estado medido: 802\n"
     ]
    }
   ],
   "source": [
    "from random import randrange\n",
    "num_qubits = 10\n",
    "for state in [randrange(2**num_qubits) for _ in range(10)]:\n",
    "    print('Procurando estado', state, '...', end=' ')\n",
    "    print('Estado medido:', grover(state, num_qubits))\n"
   ]
  }
 ],
 "metadata": {
  "kernelspec": {
   "display_name": "Python 3 (ipykernel)",
   "language": "python",
   "name": "python3"
  },
  "language_info": {
   "codemirror_mode": {
    "name": "ipython",
    "version": 3
   },
   "file_extension": ".py",
   "mimetype": "text/x-python",
   "name": "python",
   "nbconvert_exporter": "python",
   "pygments_lexer": "ipython3",
   "version": "3.11.2"
  }
 },
 "nbformat": 4,
 "nbformat_minor": 5
}
